{
  "nbformat": 4,
  "nbformat_minor": 0,
  "metadata": {
    "colab": {
      "name": "Text_Data_Cleaning.ipynb",
      "provenance": [],
      "collapsed_sections": []
    },
    "kernelspec": {
      "name": "python3",
      "display_name": "Python 3"
    },
    "language_info": {
      "name": "python"
    }
  },
  "cells": [
    {
      "cell_type": "code",
      "metadata": {
        "colab": {
          "base_uri": "https://localhost:8080/"
        },
        "id": "32pznkfTArJf",
        "outputId": "d861d0ce-4a47-45c3-a27a-3a7516a10dcd"
      },
      "source": [
        "!pip install unidecode "
      ],
      "execution_count": null,
      "outputs": [
        {
          "output_type": "stream",
          "text": [
            "Requirement already satisfied: unidecode in /usr/local/lib/python3.7/dist-packages (1.2.0)\n"
          ],
          "name": "stdout"
        }
      ]
    },
    {
      "cell_type": "code",
      "metadata": {
        "id": "Ibtt0rdv2QiD"
      },
      "source": [
        "import pandas as pd\n",
        "import re\n",
        "from unidecode import unidecode\n",
        "import pickle"
      ],
      "execution_count": null,
      "outputs": []
    },
    {
      "cell_type": "code",
      "metadata": {
        "colab": {
          "base_uri": "https://localhost:8080/",
          "height": 419
        },
        "id": "uYpFOq_t2bOt",
        "outputId": "a159f307-682f-4d36-da66-3973cc158990"
      },
      "source": [
        "data = pd.read_csv('/content/fire_tv_telecommande_vocale.csv')\n",
        "data"
      ],
      "execution_count": null,
      "outputs": [
        {
          "output_type": "execute_result",
          "data": {
            "text/html": [
              "<div>\n",
              "<style scoped>\n",
              "    .dataframe tbody tr th:only-of-type {\n",
              "        vertical-align: middle;\n",
              "    }\n",
              "\n",
              "    .dataframe tbody tr th {\n",
              "        vertical-align: top;\n",
              "    }\n",
              "\n",
              "    .dataframe thead th {\n",
              "        text-align: right;\n",
              "    }\n",
              "</style>\n",
              "<table border=\"1\" class=\"dataframe\">\n",
              "  <thead>\n",
              "    <tr style=\"text-align: right;\">\n",
              "      <th></th>\n",
              "      <th>Commentaire</th>\n",
              "      <th>Label</th>\n",
              "    </tr>\n",
              "  </thead>\n",
              "  <tbody>\n",
              "    <tr>\n",
              "      <th>0</th>\n",
              "      <td>Le contenu de la boite est identique à l’ancie...</td>\n",
              "      <td>5</td>\n",
              "    </tr>\n",
              "    <tr>\n",
              "      <th>1</th>\n",
              "      <td>Une petite merveille pour moins de 30€ !Instal...</td>\n",
              "      <td>5</td>\n",
              "    </tr>\n",
              "    <tr>\n",
              "      <th>2</th>\n",
              "      <td>J en ai fait l acquisition sans être vraiment ...</td>\n",
              "      <td>5</td>\n",
              "    </tr>\n",
              "    <tr>\n",
              "      <th>3</th>\n",
              "      <td>Pas mal de bugs quand même du fait qu’on ne pu...</td>\n",
              "      <td>3</td>\n",
              "    </tr>\n",
              "    <tr>\n",
              "      <th>4</th>\n",
              "      <td>Fan des appareils Amazon, j'ai voulu acheter l...</td>\n",
              "      <td>5</td>\n",
              "    </tr>\n",
              "    <tr>\n",
              "      <th>...</th>\n",
              "      <td>...</td>\n",
              "      <td>...</td>\n",
              "    </tr>\n",
              "    <tr>\n",
              "      <th>1824</th>\n",
              "      <td>👍</td>\n",
              "      <td>5</td>\n",
              "    </tr>\n",
              "    <tr>\n",
              "      <th>1825</th>\n",
              "      <td>Je l’avais commander sur Boulanger. Cette clé ...</td>\n",
              "      <td>5</td>\n",
              "    </tr>\n",
              "    <tr>\n",
              "      <th>1826</th>\n",
              "      <td>Produit facile à installer,  très pratique qua...</td>\n",
              "      <td>5</td>\n",
              "    </tr>\n",
              "    <tr>\n",
              "      <th>1827</th>\n",
              "      <td>Simple et pratique bon rapport qualite prix</td>\n",
              "      <td>5</td>\n",
              "    </tr>\n",
              "    <tr>\n",
              "      <th>1828</th>\n",
              "      <td>Après avoir essayé plusieurs box Android et au...</td>\n",
              "      <td>5</td>\n",
              "    </tr>\n",
              "  </tbody>\n",
              "</table>\n",
              "<p>1829 rows × 2 columns</p>\n",
              "</div>"
            ],
            "text/plain": [
              "                                            Commentaire  Label\n",
              "0     Le contenu de la boite est identique à l’ancie...      5\n",
              "1     Une petite merveille pour moins de 30€ !Instal...      5\n",
              "2     J en ai fait l acquisition sans être vraiment ...      5\n",
              "3     Pas mal de bugs quand même du fait qu’on ne pu...      3\n",
              "4     Fan des appareils Amazon, j'ai voulu acheter l...      5\n",
              "...                                                 ...    ...\n",
              "1824                                                  👍      5\n",
              "1825  Je l’avais commander sur Boulanger. Cette clé ...      5\n",
              "1826  Produit facile à installer,  très pratique qua...      5\n",
              "1827        Simple et pratique bon rapport qualite prix      5\n",
              "1828  Après avoir essayé plusieurs box Android et au...      5\n",
              "\n",
              "[1829 rows x 2 columns]"
            ]
          },
          "metadata": {
            "tags": []
          },
          "execution_count": 3
        }
      ]
    },
    {
      "cell_type": "code",
      "metadata": {
        "colab": {
          "base_uri": "https://localhost:8080/"
        },
        "id": "oFPArqIw4gda",
        "outputId": "18980e82-f263-4812-ceda-7753b24b1c08"
      },
      "source": [
        "print(data.shape)"
      ],
      "execution_count": null,
      "outputs": [
        {
          "output_type": "stream",
          "text": [
            "(1829, 2)\n"
          ],
          "name": "stdout"
        }
      ]
    },
    {
      "cell_type": "markdown",
      "metadata": {
        "id": "p6NjFbqr4EFh"
      },
      "source": [
        "#Nettoyages du Data"
      ]
    },
    {
      "cell_type": "markdown",
      "metadata": {
        "id": "mpAIOAYB4Iv_"
      },
      "source": [
        "##Supprission des commentaires répétés"
      ]
    },
    {
      "cell_type": "code",
      "metadata": {
        "colab": {
          "base_uri": "https://localhost:8080/"
        },
        "id": "3ijCPql42bK6",
        "outputId": "2ca89815-a335-4f6b-85cb-75bbe20dc39c"
      },
      "source": [
        "data.drop_duplicates(subset=['Commentaire'],inplace=False)\n",
        "data.shape"
      ],
      "execution_count": null,
      "outputs": [
        {
          "output_type": "execute_result",
          "data": {
            "text/plain": [
              "(1829, 2)"
            ]
          },
          "metadata": {
            "tags": []
          },
          "execution_count": 5
        }
      ]
    },
    {
      "cell_type": "markdown",
      "metadata": {
        "id": "624NVCSW6OLM"
      },
      "source": [
        "## Enlever les textes < seuil_mot"
      ]
    },
    {
      "cell_type": "code",
      "metadata": {
        "id": "TKYCW2sx2bGV"
      },
      "source": [
        "seuil_mot=15\n",
        "def nb_mot(commentaire):\n",
        "    return len(commentaire.split(' '))\n",
        "\n",
        "data['Longueur']=data['Commentaire'].apply(nb_mot)\n",
        "data=data[data['Longueur']>seuil_mot]"
      ],
      "execution_count": null,
      "outputs": []
    },
    {
      "cell_type": "code",
      "metadata": {
        "colab": {
          "base_uri": "https://localhost:8080/",
          "height": 419
        },
        "id": "r4v8b4Wj2bEI",
        "outputId": "75e5aba7-fac6-423d-ed70-bdfb7a4867a6"
      },
      "source": [
        "data"
      ],
      "execution_count": null,
      "outputs": [
        {
          "output_type": "execute_result",
          "data": {
            "text/html": [
              "<div>\n",
              "<style scoped>\n",
              "    .dataframe tbody tr th:only-of-type {\n",
              "        vertical-align: middle;\n",
              "    }\n",
              "\n",
              "    .dataframe tbody tr th {\n",
              "        vertical-align: top;\n",
              "    }\n",
              "\n",
              "    .dataframe thead th {\n",
              "        text-align: right;\n",
              "    }\n",
              "</style>\n",
              "<table border=\"1\" class=\"dataframe\">\n",
              "  <thead>\n",
              "    <tr style=\"text-align: right;\">\n",
              "      <th></th>\n",
              "      <th>Commentaire</th>\n",
              "      <th>Label</th>\n",
              "      <th>Longueur</th>\n",
              "    </tr>\n",
              "  </thead>\n",
              "  <tbody>\n",
              "    <tr>\n",
              "      <th>0</th>\n",
              "      <td>Le contenu de la boite est identique à l’ancie...</td>\n",
              "      <td>5</td>\n",
              "      <td>445</td>\n",
              "    </tr>\n",
              "    <tr>\n",
              "      <th>1</th>\n",
              "      <td>Une petite merveille pour moins de 30€ !Instal...</td>\n",
              "      <td>5</td>\n",
              "      <td>129</td>\n",
              "    </tr>\n",
              "    <tr>\n",
              "      <th>2</th>\n",
              "      <td>J en ai fait l acquisition sans être vraiment ...</td>\n",
              "      <td>5</td>\n",
              "      <td>158</td>\n",
              "    </tr>\n",
              "    <tr>\n",
              "      <th>3</th>\n",
              "      <td>Pas mal de bugs quand même du fait qu’on ne pu...</td>\n",
              "      <td>3</td>\n",
              "      <td>95</td>\n",
              "    </tr>\n",
              "    <tr>\n",
              "      <th>4</th>\n",
              "      <td>Fan des appareils Amazon, j'ai voulu acheter l...</td>\n",
              "      <td>5</td>\n",
              "      <td>667</td>\n",
              "    </tr>\n",
              "    <tr>\n",
              "      <th>...</th>\n",
              "      <td>...</td>\n",
              "      <td>...</td>\n",
              "      <td>...</td>\n",
              "    </tr>\n",
              "    <tr>\n",
              "      <th>1812</th>\n",
              "      <td>Nous utilisons ce produit pour la réception de...</td>\n",
              "      <td>4</td>\n",
              "      <td>20</td>\n",
              "    </tr>\n",
              "    <tr>\n",
              "      <th>1818</th>\n",
              "      <td>Vraiment très bien je recommande  la preuve va...</td>\n",
              "      <td>5</td>\n",
              "      <td>17</td>\n",
              "    </tr>\n",
              "    <tr>\n",
              "      <th>1825</th>\n",
              "      <td>Je l’avais commander sur Boulanger. Cette clé ...</td>\n",
              "      <td>5</td>\n",
              "      <td>36</td>\n",
              "    </tr>\n",
              "    <tr>\n",
              "      <th>1826</th>\n",
              "      <td>Produit facile à installer,  très pratique qua...</td>\n",
              "      <td>5</td>\n",
              "      <td>35</td>\n",
              "    </tr>\n",
              "    <tr>\n",
              "      <th>1828</th>\n",
              "      <td>Après avoir essayé plusieurs box Android et au...</td>\n",
              "      <td>5</td>\n",
              "      <td>45</td>\n",
              "    </tr>\n",
              "  </tbody>\n",
              "</table>\n",
              "<p>945 rows × 3 columns</p>\n",
              "</div>"
            ],
            "text/plain": [
              "                                            Commentaire  Label  Longueur\n",
              "0     Le contenu de la boite est identique à l’ancie...      5       445\n",
              "1     Une petite merveille pour moins de 30€ !Instal...      5       129\n",
              "2     J en ai fait l acquisition sans être vraiment ...      5       158\n",
              "3     Pas mal de bugs quand même du fait qu’on ne pu...      3        95\n",
              "4     Fan des appareils Amazon, j'ai voulu acheter l...      5       667\n",
              "...                                                 ...    ...       ...\n",
              "1812  Nous utilisons ce produit pour la réception de...      4        20\n",
              "1818  Vraiment très bien je recommande  la preuve va...      5        17\n",
              "1825  Je l’avais commander sur Boulanger. Cette clé ...      5        36\n",
              "1826  Produit facile à installer,  très pratique qua...      5        35\n",
              "1828  Après avoir essayé plusieurs box Android et au...      5        45\n",
              "\n",
              "[945 rows x 3 columns]"
            ]
          },
          "metadata": {
            "tags": []
          },
          "execution_count": 7
        }
      ]
    },
    {
      "cell_type": "markdown",
      "metadata": {
        "id": "nSdRLJOt8hu7"
      },
      "source": [
        "## Binarisation du Label\n",
        "### Label = 1,2,3 ==> 0\n",
        "### Label = 4,5 ==> 1"
      ]
    },
    {
      "cell_type": "code",
      "metadata": {
        "colab": {
          "base_uri": "https://localhost:8080/",
          "height": 623
        },
        "id": "dnDL_YX08fjV",
        "outputId": "448558d4-a43f-4c4d-e688-4a99aae2b742"
      },
      "source": [
        "data.loc[data[data['Label'].astype(int)<4].index,'Label']=0\n",
        "data.loc[data[data['Label'].astype(int)>3].index,'Label']=1\n",
        "data"
      ],
      "execution_count": null,
      "outputs": [
        {
          "output_type": "stream",
          "text": [
            "/usr/local/lib/python3.7/dist-packages/pandas/core/indexing.py:1763: SettingWithCopyWarning: \n",
            "A value is trying to be set on a copy of a slice from a DataFrame.\n",
            "Try using .loc[row_indexer,col_indexer] = value instead\n",
            "\n",
            "See the caveats in the documentation: https://pandas.pydata.org/pandas-docs/stable/user_guide/indexing.html#returning-a-view-versus-a-copy\n",
            "  isetter(loc, value)\n",
            "/usr/local/lib/python3.7/dist-packages/pandas/core/indexing.py:1763: SettingWithCopyWarning: \n",
            "A value is trying to be set on a copy of a slice from a DataFrame.\n",
            "Try using .loc[row_indexer,col_indexer] = value instead\n",
            "\n",
            "See the caveats in the documentation: https://pandas.pydata.org/pandas-docs/stable/user_guide/indexing.html#returning-a-view-versus-a-copy\n",
            "  isetter(loc, value)\n"
          ],
          "name": "stderr"
        },
        {
          "output_type": "execute_result",
          "data": {
            "text/html": [
              "<div>\n",
              "<style scoped>\n",
              "    .dataframe tbody tr th:only-of-type {\n",
              "        vertical-align: middle;\n",
              "    }\n",
              "\n",
              "    .dataframe tbody tr th {\n",
              "        vertical-align: top;\n",
              "    }\n",
              "\n",
              "    .dataframe thead th {\n",
              "        text-align: right;\n",
              "    }\n",
              "</style>\n",
              "<table border=\"1\" class=\"dataframe\">\n",
              "  <thead>\n",
              "    <tr style=\"text-align: right;\">\n",
              "      <th></th>\n",
              "      <th>Commentaire</th>\n",
              "      <th>Label</th>\n",
              "      <th>Longueur</th>\n",
              "    </tr>\n",
              "  </thead>\n",
              "  <tbody>\n",
              "    <tr>\n",
              "      <th>0</th>\n",
              "      <td>Le contenu de la boite est identique à l’ancie...</td>\n",
              "      <td>1</td>\n",
              "      <td>445</td>\n",
              "    </tr>\n",
              "    <tr>\n",
              "      <th>1</th>\n",
              "      <td>Une petite merveille pour moins de 30€ !Instal...</td>\n",
              "      <td>1</td>\n",
              "      <td>129</td>\n",
              "    </tr>\n",
              "    <tr>\n",
              "      <th>2</th>\n",
              "      <td>J en ai fait l acquisition sans être vraiment ...</td>\n",
              "      <td>1</td>\n",
              "      <td>158</td>\n",
              "    </tr>\n",
              "    <tr>\n",
              "      <th>3</th>\n",
              "      <td>Pas mal de bugs quand même du fait qu’on ne pu...</td>\n",
              "      <td>0</td>\n",
              "      <td>95</td>\n",
              "    </tr>\n",
              "    <tr>\n",
              "      <th>4</th>\n",
              "      <td>Fan des appareils Amazon, j'ai voulu acheter l...</td>\n",
              "      <td>1</td>\n",
              "      <td>667</td>\n",
              "    </tr>\n",
              "    <tr>\n",
              "      <th>...</th>\n",
              "      <td>...</td>\n",
              "      <td>...</td>\n",
              "      <td>...</td>\n",
              "    </tr>\n",
              "    <tr>\n",
              "      <th>1812</th>\n",
              "      <td>Nous utilisons ce produit pour la réception de...</td>\n",
              "      <td>1</td>\n",
              "      <td>20</td>\n",
              "    </tr>\n",
              "    <tr>\n",
              "      <th>1818</th>\n",
              "      <td>Vraiment très bien je recommande  la preuve va...</td>\n",
              "      <td>1</td>\n",
              "      <td>17</td>\n",
              "    </tr>\n",
              "    <tr>\n",
              "      <th>1825</th>\n",
              "      <td>Je l’avais commander sur Boulanger. Cette clé ...</td>\n",
              "      <td>1</td>\n",
              "      <td>36</td>\n",
              "    </tr>\n",
              "    <tr>\n",
              "      <th>1826</th>\n",
              "      <td>Produit facile à installer,  très pratique qua...</td>\n",
              "      <td>1</td>\n",
              "      <td>35</td>\n",
              "    </tr>\n",
              "    <tr>\n",
              "      <th>1828</th>\n",
              "      <td>Après avoir essayé plusieurs box Android et au...</td>\n",
              "      <td>1</td>\n",
              "      <td>45</td>\n",
              "    </tr>\n",
              "  </tbody>\n",
              "</table>\n",
              "<p>945 rows × 3 columns</p>\n",
              "</div>"
            ],
            "text/plain": [
              "                                            Commentaire  Label  Longueur\n",
              "0     Le contenu de la boite est identique à l’ancie...      1       445\n",
              "1     Une petite merveille pour moins de 30€ !Instal...      1       129\n",
              "2     J en ai fait l acquisition sans être vraiment ...      1       158\n",
              "3     Pas mal de bugs quand même du fait qu’on ne pu...      0        95\n",
              "4     Fan des appareils Amazon, j'ai voulu acheter l...      1       667\n",
              "...                                                 ...    ...       ...\n",
              "1812  Nous utilisons ce produit pour la réception de...      1        20\n",
              "1818  Vraiment très bien je recommande  la preuve va...      1        17\n",
              "1825  Je l’avais commander sur Boulanger. Cette clé ...      1        36\n",
              "1826  Produit facile à installer,  très pratique qua...      1        35\n",
              "1828  Après avoir essayé plusieurs box Android et au...      1        45\n",
              "\n",
              "[945 rows x 3 columns]"
            ]
          },
          "metadata": {
            "tags": []
          },
          "execution_count": 8
        }
      ]
    },
    {
      "cell_type": "code",
      "metadata": {
        "colab": {
          "base_uri": "https://localhost:8080/"
        },
        "id": "0fzuadv38fdr",
        "outputId": "440a368a-8eab-45c7-fba4-b8bc45537e9b"
      },
      "source": [
        "Comments['Label'].value_counts()"
      ],
      "execution_count": null,
      "outputs": [
        {
          "output_type": "execute_result",
          "data": {
            "text/plain": [
              "1    127\n",
              "0    127\n",
              "Name: Label, dtype: int64"
            ]
          },
          "metadata": {
            "tags": []
          },
          "execution_count": 10
        }
      ]
    },
    {
      "cell_type": "code",
      "metadata": {
        "colab": {
          "base_uri": "https://localhost:8080/",
          "height": 419
        },
        "id": "HbA7A0cLBJIy",
        "outputId": "6d3b4f74-c4a5-4032-cdc0-dbd5a484e18c"
      },
      "source": [
        "Comments"
      ],
      "execution_count": null,
      "outputs": [
        {
          "output_type": "execute_result",
          "data": {
            "text/html": [
              "<div>\n",
              "<style scoped>\n",
              "    .dataframe tbody tr th:only-of-type {\n",
              "        vertical-align: middle;\n",
              "    }\n",
              "\n",
              "    .dataframe tbody tr th {\n",
              "        vertical-align: top;\n",
              "    }\n",
              "\n",
              "    .dataframe thead th {\n",
              "        text-align: right;\n",
              "    }\n",
              "</style>\n",
              "<table border=\"1\" class=\"dataframe\">\n",
              "  <thead>\n",
              "    <tr style=\"text-align: right;\">\n",
              "      <th></th>\n",
              "      <th>Commentaire</th>\n",
              "      <th>Label</th>\n",
              "      <th>Longueur</th>\n",
              "    </tr>\n",
              "  </thead>\n",
              "  <tbody>\n",
              "    <tr>\n",
              "      <th>805</th>\n",
              "      <td>Ce stick amazon est une réussite, in branche s...</td>\n",
              "      <td>1</td>\n",
              "      <td>40</td>\n",
              "    </tr>\n",
              "    <tr>\n",
              "      <th>165</th>\n",
              "      <td>acheté en promo à 20 € pour une ancienne tv av...</td>\n",
              "      <td>1</td>\n",
              "      <td>63</td>\n",
              "    </tr>\n",
              "    <tr>\n",
              "      <th>547</th>\n",
              "      <td>C'est juste magique, nous en avons commandé 3 ...</td>\n",
              "      <td>1</td>\n",
              "      <td>31</td>\n",
              "    </tr>\n",
              "    <tr>\n",
              "      <th>962</th>\n",
              "      <td>Installation facile - privilégiez le cable d'a...</td>\n",
              "      <td>1</td>\n",
              "      <td>36</td>\n",
              "    </tr>\n",
              "    <tr>\n",
              "      <th>102</th>\n",
              "      <td>Your browser does not support HTML5 video.\\n\\n...</td>\n",
              "      <td>1</td>\n",
              "      <td>120</td>\n",
              "    </tr>\n",
              "    <tr>\n",
              "      <th>...</th>\n",
              "      <td>...</td>\n",
              "      <td>...</td>\n",
              "      <td>...</td>\n",
              "    </tr>\n",
              "    <tr>\n",
              "      <th>1106</th>\n",
              "      <td>bon produit dans le principe MAIS il arrive TR...</td>\n",
              "      <td>0</td>\n",
              "      <td>20</td>\n",
              "    </tr>\n",
              "    <tr>\n",
              "      <th>1778</th>\n",
              "      <td>Bonjour.faut il une tele connectée pour que ça...</td>\n",
              "      <td>0</td>\n",
              "      <td>32</td>\n",
              "    </tr>\n",
              "    <tr>\n",
              "      <th>276</th>\n",
              "      <td>Attention il y a souvent de désagréable perte ...</td>\n",
              "      <td>0</td>\n",
              "      <td>37</td>\n",
              "    </tr>\n",
              "    <tr>\n",
              "      <th>370</th>\n",
              "      <td>Plante souvent, impossible à éteindre, du coup...</td>\n",
              "      <td>0</td>\n",
              "      <td>28</td>\n",
              "    </tr>\n",
              "    <tr>\n",
              "      <th>1155</th>\n",
              "      <td>Bonjour,Je reviens vers vous car mon fire Tv n...</td>\n",
              "      <td>0</td>\n",
              "      <td>27</td>\n",
              "    </tr>\n",
              "  </tbody>\n",
              "</table>\n",
              "<p>254 rows × 3 columns</p>\n",
              "</div>"
            ],
            "text/plain": [
              "                                            Commentaire  Label  Longueur\n",
              "805   Ce stick amazon est une réussite, in branche s...      1        40\n",
              "165   acheté en promo à 20 € pour une ancienne tv av...      1        63\n",
              "547   C'est juste magique, nous en avons commandé 3 ...      1        31\n",
              "962   Installation facile - privilégiez le cable d'a...      1        36\n",
              "102   Your browser does not support HTML5 video.\\n\\n...      1       120\n",
              "...                                                 ...    ...       ...\n",
              "1106  bon produit dans le principe MAIS il arrive TR...      0        20\n",
              "1778  Bonjour.faut il une tele connectée pour que ça...      0        32\n",
              "276   Attention il y a souvent de désagréable perte ...      0        37\n",
              "370   Plante souvent, impossible à éteindre, du coup...      0        28\n",
              "1155  Bonjour,Je reviens vers vous car mon fire Tv n...      0        27\n",
              "\n",
              "[254 rows x 3 columns]"
            ]
          },
          "metadata": {
            "tags": []
          },
          "execution_count": 11
        }
      ]
    },
    {
      "cell_type": "markdown",
      "metadata": {
        "id": "mGALBgOa-tyh"
      },
      "source": [
        "#### 3) Nettoyage spécifique pour de l’analyse de texte\n",
        "\n",
        "- Stop words\n",
        "- carcteres speciaux (dont ponctuation)\n",
        "- normalisation (accents et minuscule)"
      ]
    },
    {
      "cell_type": "code",
      "metadata": {
        "id": "mWz39Xnk8fYi"
      },
      "source": [
        "def nettoyage_avec_lem(texte):\n",
        "    lem=pickle.load(open('/content/sample_data/lemmatize_fr.pickle','rb'))\n",
        "    \n",
        "    # la liste de stop words\n",
        "    with open('/content/sample_data/stop-w_fr.txt') as f:\n",
        "        s_w=f.read().split('\\n')\n",
        "\n",
        "    tmp=[]\n",
        "    \n",
        "    # Normalisation : accents et minuscule\n",
        "    texte=unidecode(texte.lower())\n",
        "    p='[a-z]{2,}'\n",
        "    for mot in re.findall(p,texte):\n",
        "        if mot in s_w:\n",
        "            continue\n",
        "        else:\n",
        "            tmp.append(mot)\n",
        "    return ' '.join(tmp)"
      ],
      "execution_count": null,
      "outputs": []
    },
    {
      "cell_type": "code",
      "metadata": {
        "id": "HEGyUOqk8fUs"
      },
      "source": [
        "negatif=[nettoyage_avec_lem(elem) for elem in Comments[Comments['Label']==0]['Commentaire']]\n",
        "positif=[nettoyage_avec_lem(elem) for elem in Comments[Comments['Label']==1]['Commentaire']]"
      ],
      "execution_count": null,
      "outputs": []
    },
    {
      "cell_type": "code",
      "metadata": {
        "colab": {
          "base_uri": "https://localhost:8080/"
        },
        "id": "zCjnlG7f8fPp",
        "outputId": "dffc2aab-7935-46e8-9721-b3b0505e3725"
      },
      "source": [
        "negatif"
      ],
      "execution_count": null,
      "outputs": [
        {
          "output_type": "execute_result",
          "data": {
            "text/plain": [
              "['produit vraie arnaque telecharger netflix faut imperativement carte bancaire enregistree amazon sachant amazon fiable cartes bleus paye frais acheter apple tv adresse mail connecte',\n",
              " 'achete produit mai vacances fin septembre apercu neconnecte tv appele service vente amazon informer technicien quise prenomme ghiane propose remplacer gratuitement donne serie chiffrespour permettre renvoyer materiel defectueux attend rachete mecontent service vente ca reflete image faisais amazon',\n",
              " 'perte telecommande modele tele sony telecommande universelle chere naviguer clef appeler alicia pratique femme teste miracle amazon prime bonne telecommande regarde ca marche ok',\n",
              " 'deuxieme televiseur payant acceder chaines normal',\n",
              " 'mal vraiment pratique facile utilisation certe appareil plante application twitch comble sachant amazon detient plate forme bref petit gadget pratique faillible',\n",
              " 'redire qualite produit fire cube fire tv stick normal achete offrir etoiles enleve livraison boite ecrasee dechiree cotes dirait produit occasion office ca',\n",
              " 'dommage manque applications mycanal explications prix prime etes facture euros savoir vente forcee dommage',\n",
              " 'contents produit bugs utilisations semaine article fonctionne acces accueil principal change piles telecommande succes globalement decus achat aimerions recevoir produit remplacement',\n",
              " 'etait inscrit annonce controle volume paiement bizarrement controle volume resultats controle volume enervent',\n",
              " 'impossibilite installer applications tv my canal aime concurrence elimine possibilite elargir possibilites dommage ca limite amazon navets netflix series',\n",
              " 'debut problemes fire stick regarde serie disney netflix ouvre automatiquement molotov affiche message erreur molotov erreur survenue veuillez relancer application fasse chose appele sav repond chose faut debrancher rebrancher changer pile telecommande demande change succes cas panne imaginez changeront desagreable ligne sav deconseille fortement vaux mieux acheter marque google',\n",
              " 'stick jamais fonctionne capte signal wifi parvient connecter interface decroche achete mois rachete second fonctionne tv cordialement',\n",
              " 'produitj acquisition sticks pratiquepas besoin telephone chromecaster trouve genialla wifi suffitje recommande',\n",
              " 'adepte moment mis canal impossible connecter revient debut',\n",
              " 'probleme tele commande temps remplace piles malheureusement probleme persiste tele commande fonctionne echanger appareil plait',\n",
              " 'attention faut prise metre port usb tv branchez usb tv message erreur informant branchement suffisamment alimente prevoir achat supplementaire pack alimentation pratique dommage controle telecommande pris modele base savais',\n",
              " 'accessoire sympa marche bug dommage mis etoiles',\n",
              " 'eme cle achetee premiere noquel souci deuxieme fonctionne utilisation occasionnelle papy mamie enfants',\n",
              " 'mettre chaines communes tf tmc lance parfaitement netflix disney lance my canal lance programme my canal sert correctement',\n",
              " 'pris ca prime video films series anglais uniquement vf completement ca sert',\n",
              " 'donner etoile ferai produit recu probleme reseau wifi coupe demarrage netflix prime renvoie amazon reparation semaines ecoulees recu remplacement perte temps argent',\n",
              " 'possibilite controler volume version lite prix franchement fluide agreable utiliser relie groupe alexa pilotant ensemble echo dot ca fonctionne plutot',\n",
              " 'firetv simple utilisation utile probleme ca arrete coup embetant',\n",
              " 'recu comande prix pe recommande prix coup service pa vraiment content service',\n",
              " 'decevant impossible installer acces play store mtf play impossible dommage surement retourner',\n",
              " 'image fiche permanence molotov changement chaine maniere intempestive',\n",
              " 'telecommande fonctionne application mobile fire tv trouve appareilje voudrais faire echange impossible faire commandes',\n",
              " 'allume tele telecommande',\n",
              " 'achete firesticks fonctionne second fonctionne piles telecommande durent jours defectueux',\n",
              " 'bonjour hier soir clef fonctionne code erreur affiche semaine servi',\n",
              " 'aller debut mois jai appareil beuger quitter chaine molotov demande',\n",
              " 'produit satisfait achat vue telecommande piloter tv eteindre allumer tv dommage mieux regarder prendre modele euros taf fonctionne',\n",
              " 'regrettable acheteurs informes peripherique hdmi connaissance necessite connecte tv possesseurs amplis av cambridge azur cas passez chemin prevoyez audio tv ampli maj mi tv stick service configuration',\n",
              " 'produit ensemble long terme bug niveau moyen retrouver debrancher completement systeme',\n",
              " 'produit achete cadeau etais decu philosophie produit box tv niveau liberte choix premierement utiliser fire stick compte amazon comprend indispensable compte amazon regarder molotov donner vielle qqn compte amazon mort trouve ca vraiment incroyablement mauvais deuxiemement cree compte amazon telecharger application rentre carte bancaire adresse facturation ca telecharger molotov troisiemement partager code amazon prime video rattacher compte utilisateur bref decu fire stick tv configurer distance lieu mn box classique mi box box chinois android achetez cadeau deconseille possede compte amazon regardez plutot box android classique',\n",
              " 'bug sais chance recurrent',\n",
              " 'besoin aide impossible connecter fire stick tv bluetooth telephone apple aider',\n",
              " 'marche pourtant achete marchait version',\n",
              " 'arrive telecharger application message echec achat malheureusement mesure terminer achat compte ete debite apparait amazon pouvez aider',\n",
              " 'commencer possede produit integrer applications netflix amazon prime youtube mycanal temps temps defaut sticks ram mets temps fou repondre ca fonctionne vraiment parfait inutile acheter deuxieme box suffira connecter reseau partie abonnement frais gros parfait connecter tv secondaire enfants sticks lite',\n",
              " 'mal bugs puisse fermer totalement application redemarrer correctement dommage puisse eteindre completement appareil eco energie ensuite manque applis mycanal mytf play dommage proposes navigateur internet amazon silk fluide passe content achat pratique evite brancher ordi hdmi merite ameliorations points vraiment',\n",
              " 'fibre fire stick bof soirs debit journee fonctionne bref soir voulais enc servir ca nemarche',\n",
              " 'dommage puisse caster veut appareil chromcast camal ferme bete',\n",
              " 'bonjour panne appareil tv stickers streaming avril envisager renboursement remplacement plaisir lire cordialement',\n",
              " 'soucis recurent wifi oblige redemarrer quotidiennement appele service client demande reinitialiser cle chose faite soucis reviennent',\n",
              " 'malheureusement etage maison connexion wifi basse installe firetv bugge reseau renvoyer trouve utilite',\n",
              " 'acheter remplacer apple tv devenue obsolete cause politique apple appareil lent apple tv ans impossible installer netflix ca job incroyable moyenne etoiles',\n",
              " 'achete fonctionne logo demarre pasje edt compatible tele',\n",
              " 'enormement beug enervant ca redemarre cesse contacte service client',\n",
              " 'faut debrancher rebrancher jour reviens normal prochaine utilisation sais normal probleme produit',\n",
              " 'produit pris essayer gros gros probleme connexion internet wifi impossible acceder abonnement netflix box cote contrairement console produit recu jours retourner solution supprimer abonnement prime',\n",
              " 'bonjour quelqu aider installer images top acces applications super temps tele ans utiliser tele decodeur tnt tv marche brancher box lecteur dvd soif essaye changer sortie quelqu probleme',\n",
              " 'debut contente achat regardant serie netflix enormement coupure min episode coupe secondes revient embetant solution probleme',\n",
              " 'jour applications tierces store amazon fonctionnent mal contrairement sticks ancienne generation version',\n",
              " 'possede amazon primesinon installation longueet promotion arret amazon prime video envoyeur',\n",
              " 'bonjour sachant retourner contact doublon paiement prelevement carte cheque cadeau renseigner',\n",
              " 'demande remplace telecommande appareil complet marche ca marche mois demi sachant bout semaine changer piles telecommande',\n",
              " 'utilite ca fonction internet tv antenne',\n",
              " 'pratique intuitif version lite gestion mauvais point dommage',\n",
              " 'super dommage manque cable alimentation produit heureusement cable usb classique demarrage dois quitter message erreur detecte cable super prix promo',\n",
              " 'fonctionne jour demande resoudre connexion wifi manipulation faite succes impossible faire reboot',\n",
              " 'installation facile faut avouer fonctionnement intuitif impossible allumer mise veille debrancher rebrancher rigolo cherchais inutile demander alexa connait',\n",
              " 'modele precedent dure an essaie acceder prime video fire stick plante redemarre indefiniment ca arrive demarrage fire stick temps faire rachete second fire tv pensant probleme resolu menu principal prime video application amazon planter totalement fire stick chance acceder molotov you tube probleme fire stick redemarre merde faire peter cables essaye mise jour remettre parametres usine fire stick eteint redemarre indefiniment cas faire eteindre tv faire seance meditation sport calmer nerfs ca veut faire passer fenetre',\n",
              " 'principe produit ca bug oblige redemarrer lastique frequemment mode voice view plante elastique bref deconseille malvoyants besoin audio description',\n",
              " 'telecommande marche bout mois sais faire jouer harantie',\n",
              " 'troisieme achete sincerement ca evite boxes tv ca top mecontente article pris jour lendemain raison',\n",
              " 'modele disponible opte efficace tv allume bouton volume faut mettre veille contraignant rapport modele superieur bref conseille prendre modele euros euros faut hesiter',\n",
              " 'gain leger rapidite confort alexa fire tv stick lite telecommande vocale alex bug regarde programme genre youtube prime video netflix coup fenetre ouvre motolo tv erreur survenue rapport plate forme regarde achete amazon adaptateur ethernet fire tv stick fonctionne retrouve wifi possibilite choisir reseau ethernet parametres fire tv stick lite ancienne version fire tvstick soucis franchement decu',\n",
              " 'arrive faire demande prise charge garantie produit bloquer page fire tv oeut oas contacter revendeur',\n",
              " 'impossible controle volume connecter airpods volume hyper fort balade interface ouvre application ca lag',\n",
              " 'comprends specifications version lite arrive mauvaise version parfaite consultant specs stick demande lite specifications processeur ram stockage pourtant ca rame ca bug probleme information spotify marche',\n",
              " 'recu produit reconditionne prix deception boite abimee scotch refermer boitedonc trouve mal honnete part amazon cadeau noel ca',\n",
              " 'fire tv coupe jour dois enlever remettre cable alimentation jour voudrais remboursement echange',\n",
              " 'hier voulu installer fire stick lire premiere wifi connecte parfaitement rapidement effectue recherche mise jour recherche echec essaye installer dizaine hier faire',\n",
              " 'dommage manque appli utiles installant appli replay fonctionnent dommage alexa vraiment super trouver programmes tourner xiaomi tv',\n",
              " 'switch arret stick perpetuellement active arreter faut debrancher possibilite chaines tv faut molotov demande inscription point positif stick remplace avantageusement antenne tv chere image soumise conditions climatiques cas antenne interieure',\n",
              " 'grosse arnaque mise jour rmc sport canal viens faire escroquer amazon',\n",
              " 'plutot satisfait ensemble prix agreable donne lenteur demarrer naviguer',\n",
              " 'service vente catastrophique mois bataille pauvre cache plastique verrouille telecommande neuve ete satisfais amazon aujourdhui fort',\n",
              " 'impossible eteindre appareil mettre veille faut debrancher ensuite gestion disney etonnante impossible gerer langue titres bouton menu accepte fonctionner amazon prime regarder film pouvoir choisir langue trouve ca limite voir imposer titrage grand',\n",
              " 'achete pratique maison part programme netflix prime video ca vacances ya mettre code wifi utiliser telephone modem ya option faire defiler photos perso fond ecran tele moyen ca fonctionne modeles telephones gros telecommande vraiment fonctionnelle numero ete pratique dommage ensemble utile',\n",
              " 'probleme demande debrancher rebrancher appareil plante heures demande debranchement couple probleme attention article',\n",
              " 'facile installer pratiquemais telecommande fonctionne bout utilisations impossible utiliser fonction valider',\n",
              " 'trompe touches poser volumes eme sert tv chambre grave contrairement utilise principalement salon pratique oblige jongler telecommande livraison rapide',\n",
              " 'moyen connections wifi debit fibre mega telecommande mauvaise qualite mois utilisation heure jour grince ca vaut coup regarder part amazon',\n",
              " 'ca peine recu appareil servi jours vrai bonheur regarder netflix gros beug ca charge videos decu probleme wifi connecter',\n",
              " 'mois utilisation produit hs bloque restauration stockage redemarre boucle vraiment decu achat',\n",
              " 'vraiment decu problemes fire stick tv premiere films venait rond bleu tournait heures films venait jamais retourne premiere rachete deuxieme probleme retourne service client prime video mises jour faire probleme resolue probleme venait connexion internet partage connexion telephonne mieux faire connexion filaire box',\n",
              " 'super simple manipuler configuration met quinzaine minutes',\n",
              " 'bonjour ca marche viens tt installer ca marche min telecommande fonctionne',\n",
              " 'cle simple installer ete oblige visionner tutos net commence mise jour prend enormement temps ensuite subi bug oblige debrancher sauvagement etonne bouton off tv eteinte cle allume debranche secteur oublie debrancher chauffe enormement loupe niveau conception dommage',\n",
              " 'versions maison erreur acheter version ancienne nouvelle touche allumer eteindre touche volume vraiment top ensuite bc pb logiciels ex canal bugs impossible changer chaine choisi avance reculer film dois automatiquement retourner menu principal achat regretter jette emballage pensais etait nv vraiment regrette retourner conseil prendre nouvelle plutot mal passe chemin',\n",
              " 'lecture videos fluide saccades apparaissent genant resoudre probleme fonction adapter frequence origine active',\n",
              " 'mecontent produit temps utiliser entrain redemarrer bugger acheter module supplementaire mettre filaire',\n",
              " 'decue fonctions off ecran tv telecommande model model alexa fonctions prefere ancienne fire stick',\n",
              " 'oblige changer piles semaine creer lien eligible novembre moyen contacte amazon',\n",
              " 'decu souvient pratiquement jamais regarde precedente penible series miracle souvient serie affiche temps episode alexa sais reprendre arrete precedente',\n",
              " 'utilise fire stick classiques certainement cause lite impossible configurer piece chambre salon groupe dommage appareils connectes utilise telecommande vocale faudra exemple temps preciser eteins lumiere chambre fire stick emplacements ca change part detail fonctionne change telecommande controle tv interessant demarrage message nouvelle telecommande connectee message perso recommande version limitee point promos modele telecommande tv fire stick coute dommage cle aller fond tiroir temps finir poubelle',\n",
              " 'dommage abonnement netfix disponible produit demande reprendre vois devrais payer',\n",
              " 'produits cheaaaaap aliexpress envoie produit qualite minable celuici vraiment triste derangeant image jour test franchment faut mettre produit em vente gratuit decu amazon service produits',\n",
              " 'commande allumage tele produit modele base acheter',\n",
              " 'fonctionne merveille probleme veille envoie donnes imaginer enorme etes debit adsl pensez debrancher voudrais savoir envoi donner ca monte kb veille',\n",
              " 'bonjour achete premiere produit fonctionne maniere satisfaisante jours tombe panne chaine televiseur fonctionnait correctement mode normal retourne produit ete rembourse recommande produit pensant etais tombe exemplaire defectueux donner satisfaction bout jours fonctionnement produit souffre defaut conception',\n",
              " 'decue cle fonctionne pasj attends geste part amazon',\n",
              " 'svp besoin renseignement adaptateur integrer wifi fil tv',\n",
              " 'demande pass impossible reviendrai evaluer article',\n",
              " 'chant libre perd connexion wifi ghz voit jourje regrete achat',\n",
              " 'bonjourlivraison top installation hyper simpleimage appli molotov netflix prime toutpeut vieille tv gere model stick tv liteet achete indique adaptateur reseau ethernet cas pv reception wifi bref euros tard nada trouve soluce mettrais etoiles',\n",
              " 'version basique prend charge dolby atmos fournie telecommande version stick classique bouton marche arret no reglage volume option coutera souhaitez acheter revient prix modele vois interet modele prix version superieure ajoute telecommande vocale complete dolby atmos pris charge bref passez chemin',\n",
              " 'article presente defaillances techniques affiche tele beugue passe',\n",
              " 'fonctionne malheureusement mets tv veille sort veille ecran noir dois debrancher rebrancher tv stick lite ca fonctionne',\n",
              " 'pratique possede smart tv temps temps',\n",
              " 'trouve dommage boutons volume fallu achete boutons vraiment dommage conseille acheter boutons volumes films cessent changer desagreable fonction vocal fonctionne stick',\n",
              " 'facile utilisation installer vrai application applis valides amazon decus spotify vus deezer adn ais vus concurrent mal jour',\n",
              " 'fonctionne parfaitement vieille tv ormis netflix youtube disney exemple connecter canal series tf replay exemple ete decue point',\n",
              " 'jais aimer produit fonctionne sachant acheter ya longtemp',\n",
              " 'bonjourgadget recu installe souci utilisation fluide telecommande efficace gros defaut sens ecran accueil bazar gloire amazon prime video deteste habitude utiliser box android tv mi box plaisir pouvoir choisir veut afficher quelqu repondu question achat pub pub amazon',\n",
              " 'telecommande fonctionne mois utilisation change piles dois faire contacter trouve aide inadmissible',\n",
              " 'regarder chaines tnt streaming option tv box fonction enregistrement bouquets payants netflix my canal disney paye taxe audiovisuel payer telecommande nulle arreter stick manipulations',\n",
              " 'desagreable surprise modele superieur pose souci fire tv stick ultra hd telecommande vocale alexa nouvelle generation installation parametrage wifi comptes modele prix promo pose souci ensuite utilisation commande vocale jamais voulu fonctionner cadeau installation externe appels support amazon appli android aide pseudos procedures raccroches maniere subite rappel bel esprit service support niveau superieur retracer affaire question principe correction domicile test constat appel matin service client choix remboursement achat prix promo possibilite prendre modele superieur conditions tarifaires euros temps perdu agit cadeau fort desagreable',\n",
              " 'voulu installer eme chambre tentatives minimum compte amazon fr cdes personnelles donne invite impossible compte amazon fr existe euros achats annuels ans remboursement compte demande souhaitez suppression commentaire envoyez gars ans informatique',\n",
              " 'applie sfr tv fonctionne pasbecause parteneria sfrmolotov tv regarder tv bofbofpour perso intuitif fire stickmais prix',\n",
              " 'produit principe arrive clef connecte fonctionne usant',\n",
              " 'bonjour faut tele connectee ca marche exemple petite tele voudrai mettre lingerie antenne ca marcherait cas cordialement',\n",
              " 'attention desagreable perte connexion fibre clique ignorer film reprends cours demande forcer acheter adaptateur rj',\n",
              " 'plante impossible eteindre coup lorsqu allume tele ca fige programme regarde precedemment oblige faire tas manipulations relancer',\n",
              " 'bonjour reviens fire tv fonctionne fonctions telecommande marchent temps']"
            ]
          },
          "metadata": {
            "tags": []
          },
          "execution_count": 14
        }
      ]
    },
    {
      "cell_type": "code",
      "metadata": {
        "colab": {
          "base_uri": "https://localhost:8080/"
        },
        "id": "PPjagbq48fNg",
        "outputId": "4a102dea-1706-450a-bd8e-88baa3b60f1b"
      },
      "source": [
        "positif"
      ],
      "execution_count": null,
      "outputs": [
        {
          "output_type": "execute_result",
          "data": {
            "text/plain": [
              "['stick amazon reussite in branche hdmi met code wifi maison parti qualite image bonne interface jeu enfant',\n",
              " 'achete promo ancienne tv port hdmi job jeter tv tv cuisine repris parametres codes applis officielles installees installer kodi cuisine top',\n",
              " 'magique commande tele connecte capricieuse top bug facile installation appli telecommande parfait',\n",
              " 'installation facile privilegiez cable alimentation port usb tv stable tele telechargement rapide fibre craquer',\n",
              " 'your browser does not support html video parfait chambre garcons termes streaming reactif niveau latence bugs constates qualite video hd bout bout choisi fire stick lite commande tv chambre enfants commande vocale dicter souhaits tv charge volume allumer eteindre parents faisons chose dispose fire stick telecommande salon indispensable piece vivre recommande produit yeux fermes hesitez espere commentaire eclairci hesitent',\n",
              " 'cle vraiment super offre chose apple tv facile mettre marche configurer retrouve min tele piece achete vraiment decue recommande article',\n",
              " 'appareil connecter tele bluetooth lie box telecommande vocale fonctionne',\n",
              " 'fonctionne impect utilisation wifi point acces telephone utilisation telephone consacre uniquement fire stick garde centimetres recommande fonction impec recommande',\n",
              " 'contant achat simple efficace reprendre biento',\n",
              " 'achete mauvaise reception tv chambre grace fire stick acces chaines numeriques bonnes qualites appli molotov ecouter musique souhaite amazon music franchement super',\n",
              " 'facile installation tele besoin cable tv wifi pouvoir regarder tv amazon proposer fire stick tv dommage regler volume commande rapidement regrets',\n",
              " 'simplissime installer vraiment produit prixje antenne tv chaines netflix amazon video',\n",
              " 'petit cle indispensable veille tv chambre prise antenne discret fonctionnel bonus commande vocale my canal molotov parfait',\n",
              " 'redire brancher connecter wifi simple tele profiter contenu prime video exemple evidemment fonction volume ete bienvenue prix raisonnable tele secondaire chambre exemple ca recommande souci',\n",
              " 'accessoire parfait connecter televiseur pourvu application adequat antenne abonnement internet biensur belle qualite image recommande vivement',\n",
              " 'satisfait achat installation utilisation faciles retrouver internet ancienne television regarder films videos grand ecran prix agreablement surpris part recommande',\n",
              " 'parfait donner seconde vies teles disposent youtube netflix amazon prime cast plutot utile prix',\n",
              " 'update lendemain magie regler probleme acces marche hyper simple rapide efficace emballage vois applications youtube disney twitch arte fire stick installer jr veux savoir faire mettre etoiles',\n",
              " 'contenus facilement accessibles prend rapidement coup main utiliser menus changer titres langue switcher rapidement netflix prime video clics telecommande',\n",
              " 'marche extremmement cas fonctionnant box images affichants consomme pixels bouffe petit volume data vite chromecast affiche choisis tv avis usage reserve possesseurs box internet',\n",
              " 'produit ete bonne decouverte super pratique facile utilisernombreuses applicationsprends placetop top',\n",
              " 'vraiment top achete deuxieme mettre tele chambre regarder netflix youtube tele agee',\n",
              " 'fonctionne vraiment connectee point acces mobile samsung note lite recommande smarttv',\n",
              " 'cadeaux noel parents pris simple controle volume mieux tv antenne top',\n",
              " 'achete conseille parents',\n",
              " 'sert jours remplace plateformes multimedia petite consomme achat adaptateur ethernet efficace wifi consideration propre logement laisse etoiles',\n",
              " 'super produit pr regarder netflix amazon prime tnt tele antennes facile installation navigation rapide ciblee installer applications guider installe tele possedant port hdmi faut wifi',\n",
              " 'prise antenne chambre tnt tele ca acces tele molotov netflix amazon prime wi automatique',\n",
              " 'ideal transformer televiseur television connectee internet faible cout facilement apprecie particulierement abonnement amazon prime',\n",
              " 'achetee profiter prime tv content interface graphique faite configuration compte amazon wifi simple intuitive remarque freeze bug utilisant plateformes streaming telecommande faite ergonomique manque controle volume interne certainement existe version tv bref prix',\n",
              " 'utilise jours manque stockage branchement hdmi solliciter',\n",
              " 'facile utiliser modele faut garder telecommande regler volume allumer tv super pratique eme tv connecte branche antenne',\n",
              " 'satisfait colis recu rapidement emballemerci serieux professionnalismeje recommande vivement achat',\n",
              " 'travail attendre apple tv prix redire accede application store nickel',\n",
              " 'viens recevoir petit fire tv premiere chose vient fluidite telecommande prise hdmi tv prise courant fonctionne complete box tv android ds tranche prix battais telecommande usage installation facile intuitive savoir lire ideal netflix youtube recommande',\n",
              " 'simple installation fire tv efficace pouvoir elargir choix applis telecharger canal serie my canal propose catalogue connecter compte semaine satisfaisant difficulte etablir simple connexion regarder film compte prime netflix soucis savoir petites ameliorations apporter',\n",
              " 'pratique rapide fonctionne wifi controle volume telecommande tele personnellement ca gene mis part produits apple marque propose apple tv plates forme',\n",
              " 'contente produit besoin installer pc salon rapide facile top recommande',\n",
              " 'facile installer utiliser besoin changer tele modele connecte',\n",
              " 'ideal connecter tele fonctionne regarder disney tele netflix prime video recommande installation tele simple rapide',\n",
              " 'bemol ca coupe temps remettre molotov prime video met flix disney passe ottobre intrusive programme cle faire coupe films film revoir',\n",
              " 'super invention fini vielles antennes capter tnt acheter cles amazon tour joue',\n",
              " 'fonctionne direjuste brancher rentree compte neflix regarder filmsje recommande',\n",
              " 'super emballage simple organise installation simple articles amazon super pratique marche ecran pc forcement place tele top',\n",
              " 'acheter ca mois fire stick rencontre probleme parfait vieilles tv connexion android soucis capter chaines tnt gratuite antenne rateau toit fire stick mettes appli gratuite molotov tv voila probleme regle pourrez installer applications pluto tv youtube entierement satisfait fire stick telecommande fonctionne super',\n",
              " 'initialement achete produit installer tele salon parents vite adopte consomment tele facon achete produit pouvoir regarder prime video devoir caster ecran smartphone android souhaite image saccadee origine probleme resolu qualite image vraiment canon',\n",
              " 'installation facile acces prime video netflix molotov amazon music you tube google stockage photos privilegier stick controle televiseur',\n",
              " 'utilise tv salon gagner place boitier special tv',\n",
              " 'stick permis remplacer interface vieillotte tv connectee commence prendre age dois avouer conquis interface claire intuitive nombre applications disponible faire choses alexa montre pratique trouver facilement rapidement contenu dirais simplement dommage bouton power inclus version base indispensable economiser energie recommande',\n",
              " 'pratique acces internet tele connecter netflix prime video tou tube',\n",
              " 'bonjour connait produits assurer genial connecte tele rapidement profite musiques films amazon prime mis photos voir grand tele recommande produit adore',\n",
              " 'bonjour appareil fonctionne aucunes latences simple installer controle vocal top conseille produit',\n",
              " 'redire livraison emballage excellent materiel genial fonctionne vraiment jeu enfant installer my canal disney prime youtube molotov applications recommande vivement',\n",
              " 'super pratique besoin payer abonnement box tv facile configuration',\n",
              " 'principale preoccupation etait delai puissance cle tv ca allait fluide rapide stable agreable pouvoir reunir applications recommande balles',\n",
              " 'produit livre rapidement conforme description version lite controle volume impossibilite allumer eteindre tele telecommande largement utilisation basique produit facile installer fonctionne rapidement compte amazon connecte attention produit offert faut savoir obligatoirement creer compte amazon veut mettre coordonnees bancaires adresse facturation penible demarrage etapes validees pourrez telecharger applications youtube molotov etapes completees produit vraiment top',\n",
              " 'bonne ip tv prix mal choix application variees besoin peutes telecharger apk petites moment latence bugs vite regler',\n",
              " 'simple utilisation connecter jus eva connecter partit',\n",
              " 'amazon choses suite abonnement prime pris stick facile recupere grace molotov chaines tv chambre reception hertzienne parasitee eoliennes amazon concept prime oubliais top reprendre zero episodes files',\n",
              " 'utilise appareil chambre tnt grace application motolov acces netflix disney appareil fonctionne reponds parfaitement attentes facile utilisation',\n",
              " 'besoin antenne regarder tele facile utiliser garde memoire codes connecter box rajoutant molotov acces chaines tnt recommande produit',\n",
              " 'vieille tele connectee besoin genre appareil budget maximum ca super taf regarder youtube twitch probleme recommande tele dolby altmos sais',\n",
              " 'livraison recu temps heure redire emballage fire tv stick lite concu vraiment plaisant deballer installation simple rapide part sors chrome cast trouvais installation application embetante ca fonctionnait correctement ca pris mins installer comptant mise jour logiciel part pose probleme fire tv stick lite connecte wifi ca choisi fluidite bonne navigation simple agreable assistant vocale alexa fonctionne qualite image vraiment bonne ancienne tv recommande veulent tv connectee simplement tv application molotov',\n",
              " 'cle tv telecommande android tv presque part dirais mieux telecommande repond latence image correct recommande hesitation',\n",
              " 'panne box tv fire stick tv contente decouvre amazon prime fortement recommande ravie fonctionnalites proposees',\n",
              " 'essayer adopter essaye boitiers android tv xiaomi box pourtant mal cle petite pratique montre ergonomie efficacite extraordinaire recommande vivement',\n",
              " 'regrette achat contraire facile utiliser rentable abonnement livre demain conseillerai fortement proches orienter fire stick avenir grand',\n",
              " 'your browser does not support html video concept top facile utilisation enormement beug niveau image voir video utilise fire stick enormement decue coter',\n",
              " 'demande pris vraiment produit',\n",
              " 'petite tele chambre devenue smart tv demi heure produit hyper simple comprendre pratique plaisir pouvoir regarder netflix ecouter musique spotify petit ecran amazon',\n",
              " 'produit genial facile installation cle reconnait box rentrer code wifi codes amazon etes guide version controle volume alexa fonctionne vraiment decue',\n",
              " 'excellente fire stick interface parfaite sublime experience quotidien regarder tv utiliser applications streaming',\n",
              " 'satisfaite produit commande temps lu commentaires decu',\n",
              " 'quatrieme achetons famille equipee vraiment simple utilisation fiable applications fonctionnent correctement bug ravi',\n",
              " 'franchement ravie achat facile installationpermet regarder amazone prime abonnement canal disney pluspermet youtube essayefini uniquement chaines tnt endormiraucun regret achete deuxieme chambre fillepar attention cast',\n",
              " 'satisfait facile utiliser regler pluggee vieille tele ports hdmi faudra aller selectionner wifi bluetooth portable point acces aller cle telecommande canal tele branchee reseaux selectionner mobile forfait gb hesite prendre box faudra telecharger molotov voir tele bref recommande vivement',\n",
              " 'parfait hesite regrette applications tv faisait internet',\n",
              " 'genial utilise tv prix moment hdmi fonctionne niquel simple utilisation long mettre place mettant codes super regrette controle parental sert mis impossible utiliser application devoir mettre ete judicieux placer uniquement telechargements applis films',\n",
              " 'produit exceptionnel prix vraiment experience extraordinaire netflix youtube jeux gratuits pleines applications regret achete plutot',\n",
              " 'fire stick tv formidable pouvons tele antenne somme cuvette grace pouvons profiter tele',\n",
              " 'cle tele connecte grace voir netflix amazon prime navigation fluide intuitif rapport qualite prix interessant',\n",
              " 'produit livraison chronoposte top livraison lundi lieu vendredi grave livreur sympa dommage',\n",
              " 'bonjour saisi fonctions telecommande repond attentes dela satisfaite installation faite min experimentee achete pouvoir regarder disney tele regarder appli grace achat recommande',\n",
              " 'copain conseiller cle bin fonce top nikel marche super favoris netflix primevideo molotov youtube besoin chromecast recommande main facile installer foncez top',\n",
              " 'parfait mettre mycanal correspond attentes',\n",
              " 'contente achat fonctionne bonne alternative televiseurs pieces',\n",
              " 'gite stick genial cherchez chose simple faut regrette alexa marche facile installer bug',\n",
              " 'facile installer facile utilisation regarder programmes netflix amazon disney probleme commande vocale fonctionne bienla telecommande legere vraiment satisfaite peur complique',\n",
              " 'outil regarder tele direct piece sejour tnt fonctionne mal acces plateforme streaming acceder mycanal prime video netflix internet excellent rapport qualite prix recommande',\n",
              " 'super simple installer commande cocale fonctionne merveille controler consommation donnees prime video application tiers molotov impossible dommage',\n",
              " 'produit remplit parfaitement role box tele connecte controle applications chaine voix fontionne parfaitement navigation agreable passez twitch my canal youtube voix secondes qualite image optimal petit emporte partout box tv fournisseur acces internet frais location produit meilleur qualite fonctionnel',\n",
              " 'vraiment parfaitepour meilleure stick tv existe teste style stick tv vraiment amazon depasse largement nouvelle interface mieuxje dispose prime prime video musicc parfaitje recommande',\n",
              " 'bonjour stik fire amazon bloquer perdu telecommande origine racheter telecommande synchroniser faire',\n",
              " 'mois utilisation marche jour lendemain bizzare veille marchera normal',\n",
              " 'android tv axec confort telecommande petit modele prix attractif profiter abonnements deezer spotify my canal netflix disney eurosporr amazon prime vacances egalementpetits bemols modele entree gamme controle telecommtelecommande integration alexa simpleneanmoins travail repond besoins',\n",
              " 'regal vieux boitier android tv fire tv rapide fluide prime video netflix youtube preinstalles installer mycanal ca marche parfaitement mettez trouvee android apk org euros',\n",
              " 'satisfaite sticks maison servent tv smart tv retrouve netflix youtube disney iptv',\n",
              " 'tv connectee simplement genial netflix disney youtube co tour main ecran',\n",
              " 'attendais ca fonctionne rapide tele connectee lg problemes connexions wifi cas connexion excellente vraiment content stick envisage acheter second deuxieme tv super affaire petit bemol couvercle telecommande jeu ca prise main desagreable resolu probleme glissant bout carton',\n",
              " 'absence controle tv dommage qualite image reactivite rendez',\n",
              " 'super produit acces contenus seconde television facile installer reactive rapport qualite prixtres contente achat',\n",
              " 'genial petit probleme utilisation mode cast reconnu defaut',\n",
              " 'bonjour article vraiment facile installer fonctionne mette abonnement you tube abonnement amazone musique ais voir abonnement annule tv voir',\n",
              " 'alexa devient nouvelle compagnie allez adorer facile installation utilisation pouvez tv chambre acces antenne parfait',\n",
              " 'utilise seconde tv redire installation prise main faciles recommande',\n",
              " 'achete connecte televiseur entree gamme smart tv equivalent ete surpris effectivement vingtaine euros televiseur obtient dela fonctions souhaitees netflix youtube amazon prime video disney enfants lorsqu mamie telecommande extremement simple intuitive fonction vocale parfaite interface fluide rapide stable packaging complet piles telecommande condition port hdmi redire parfait',\n",
              " 'appareil facile installer rapide reactif telecommande ergonomique cache tele bonne portee wifi ca capte pieces box internet latence applications disponibles telechargement essentiel netflix youtube prime video intelligente tele stupide ravi achat prix etait promotion bonne rapport qualite recommande',\n",
              " 'super produit bonne qualite utilise pouvoir regarder molotov netflix canal produit correspond parfaitement attentes',\n",
              " 'achete tv stick residence secondaire faisais fonctionner partage connexion iphone splus operateur sfr fonctionnait avril change telephone operateur actuellement iphone forfait gobouygues connecter stick capte wifi authentification echoue pouvez aidez svp',\n",
              " 'vraiment pouvez brancher usb prise cote pratique tv molotov',\n",
              " 'livraison rapide recu lendemain facile installer produit satisfaite',\n",
              " 'genial simple utilisation pratique retrouve applications disney netflix tv grace molotov facile transporter tv',\n",
              " 'recommande voulais racheter tv connecter coup grosse economie mauvaise connection internet ca fonctionne nickel ravie',\n",
              " 'super tele cuisine chambre besoin antenne',\n",
              " 'mots point conquise genial petite tele retrouve utilite chambre acces antenne acces fluide rapide intuitif recommande',\n",
              " 'super simple utilisation branche secteur tv telecommande rentre mots passe box netflix mises jours parti ravie achat',\n",
              " 'achete tele connectee grace ca super contente netflix tele facile installer utiliser demander musique mis application sport gratuite qualite tele pris fire stick classique qualite prix top',\n",
              " 'cherche base amazone chromecaste tele chambre finalement tombe ca petit produit propose amazone franchement decu marche super viens peine installer nickel prix franchement produit decu commande franchement continuez ca',\n",
              " 'parfait prix redire vieille tv connectee ideal petit prix possibilite installer apk players iptv top',\n",
              " 'facile installer permis transformer vieille tele smart tv coup passant cable petit village interruptions avantage passant internet evite molotov tv regarder direct multitude applications donnent choix divertissements excellent',\n",
              " 'adore enfant chaine tele antenne wifi',\n",
              " 'sert essentiellement prime facile installation utilisation telecommande simple efficace bonne portee',\n",
              " 'recu commande rapidement fire tv stick lite acces programmes',\n",
              " 'super simple utilise hyper fluide etais septique final super content achat conseille fortement',\n",
              " 'installe facilement utilisation simple super pratique antenne toit',\n",
              " 'television jeune connectee acces disney tele parfait facile installer option cable donne excellente vitesse reaction',\n",
              " 'codes wifis rentres comptes amazon prime youtube affilies mises jour installees franchement impeccable impression pc coupure simple utiliser genial']"
            ]
          },
          "metadata": {
            "tags": []
          },
          "execution_count": 15
        }
      ]
    },
    {
      "cell_type": "code",
      "metadata": {
        "id": "b5vMV-wODlnM"
      },
      "source": [
        ""
      ],
      "execution_count": null,
      "outputs": []
    },
    {
      "cell_type": "code",
      "metadata": {
        "id": "NT7bs1wFDlh9"
      },
      "source": [
        "# !apt-get install texlive texlive-xetex texlive-latex-extra pandoc\n",
        "# !pip install pypandoc"
      ],
      "execution_count": 4,
      "outputs": []
    },
    {
      "cell_type": "code",
      "metadata": {
        "id": "M6ffH4ziDlag"
      },
      "source": [
        "!cp '/content/drive/MyDrive/Colab Notebooks/Text_Data_Cleaning.ipynb' ./"
      ],
      "execution_count": 3,
      "outputs": []
    },
    {
      "cell_type": "code",
      "metadata": {
        "colab": {
          "base_uri": "https://localhost:8080/"
        },
        "id": "ycFbvvRGEy8J",
        "outputId": "cb96a09e-f45b-45f5-a581-8eca9c7ffd5e"
      },
      "source": [
        "!jupyter nbconvert --to PDF '/content/drive/MyDrive/Colab Notebooks/Text_Data_Cleaning.ipynb'\n"
      ],
      "execution_count": 5,
      "outputs": [
        {
          "output_type": "stream",
          "text": [
            "[NbConvertApp] Converting notebook /content/drive/MyDrive/Colab Notebooks/Text_Data_Cleaning.ipynb to PDF\n",
            "[NbConvertApp] Writing 95564 bytes to ./notebook.tex\n",
            "[NbConvertApp] Building PDF\n",
            "[NbConvertApp] Running xelatex 3 times: [u'xelatex', u'./notebook.tex', '-quiet']\n",
            "[NbConvertApp] Running bibtex 1 time: [u'bibtex', u'./notebook']\n",
            "[NbConvertApp] WARNING | bibtex had problems, most likely because there were no citations\n",
            "[NbConvertApp] PDF successfully created\n",
            "[NbConvertApp] Writing 77258 bytes to /content/drive/MyDrive/Colab Notebooks/Text_Data_Cleaning.pdf\n"
          ],
          "name": "stdout"
        }
      ]
    }
  ]
}